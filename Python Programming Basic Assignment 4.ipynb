{
 "cells": [
  {
   "cell_type": "markdown",
   "metadata": {},
   "source": [
    "# Python Programming Basic Assignment 4"
   ]
  },
  {
   "cell_type": "markdown",
   "metadata": {},
   "source": [
    "### Q1 . Write a Python Program to Find the Factorial of a Number?"
   ]
  },
  {
   "cell_type": "code",
   "execution_count": 8,
   "metadata": {},
   "outputs": [
    {
     "name": "stdout",
     "output_type": "stream",
     "text": [
      "Enter the number to find the Factorial here: 12\n",
      "Factorial of the given number is 479001600\n"
     ]
    }
   ],
   "source": [
    "num=int(input('Enter the number to find the Factorial here: '))\n",
    "f=1\n",
    "while num>0:\n",
    "    f=f*num\n",
    "    num=num-1\n",
    "print('Factorial of the given number is {}'.format(f))"
   ]
  },
  {
   "cell_type": "markdown",
   "metadata": {},
   "source": [
    "### Q2 . Write a Python Program to Display the multiplication Table?"
   ]
  },
  {
   "cell_type": "code",
   "execution_count": 10,
   "metadata": {},
   "outputs": [
    {
     "name": "stdout",
     "output_type": "stream",
     "text": [
      "Multiplication Table of : 2\n",
      "Number of Multiples: 20\n",
      "2 X 1 = 2\n",
      "2 X 2 = 4\n",
      "2 X 3 = 6\n",
      "2 X 4 = 8\n",
      "2 X 5 = 10\n",
      "2 X 6 = 12\n",
      "2 X 7 = 14\n",
      "2 X 8 = 16\n",
      "2 X 9 = 18\n",
      "2 X 10 = 20\n",
      "2 X 11 = 22\n",
      "2 X 12 = 24\n",
      "2 X 13 = 26\n",
      "2 X 14 = 28\n",
      "2 X 15 = 30\n",
      "2 X 16 = 32\n",
      "2 X 17 = 34\n",
      "2 X 18 = 36\n",
      "2 X 19 = 38\n",
      "2 X 20 = 40\n"
     ]
    }
   ],
   "source": [
    "num=int(input('Multiplication Table of : '))\n",
    "\n",
    "n=int(input('Number of Multiples: '))\n",
    "\n",
    "for i in range(1,n+1):\n",
    "    print(num,'X',i,'=',num*i)"
   ]
  },
  {
   "cell_type": "code",
   "execution_count": 11,
   "metadata": {},
   "outputs": [
    {
     "name": "stdout",
     "output_type": "stream",
     "text": [
      "Multiplication Table of : 17\n",
      "Number of Multiples: 10\n",
      "17 X 1 = 17\n",
      "17 X 2 = 34\n",
      "17 X 3 = 51\n",
      "17 X 4 = 68\n",
      "17 X 5 = 85\n",
      "17 X 6 = 102\n",
      "17 X 7 = 119\n",
      "17 X 8 = 136\n",
      "17 X 9 = 153\n",
      "17 X 10 = 170\n"
     ]
    }
   ],
   "source": [
    "num=int(input('Multiplication Table of : '))\n",
    "\n",
    "n=int(input('Number of Multiples: '))\n",
    "\n",
    "for i in range(1,n+1):\n",
    "    print(num,'X',i,'=',num*i)"
   ]
  },
  {
   "cell_type": "markdown",
   "metadata": {},
   "source": [
    "### Q3 . Write a Python Program to Print the Fibonacci sequence?"
   ]
  },
  {
   "cell_type": "code",
   "execution_count": 13,
   "metadata": {},
   "outputs": [
    {
     "name": "stdout",
     "output_type": "stream",
     "text": [
      "No. of numbers needed in a sequence: 1\n",
      "0\n"
     ]
    }
   ],
   "source": [
    "n=int(input('No. of rows needed in a sequence: '))\n",
    "n1=0\n",
    "n2=1\n",
    "\n",
    "count=0\n",
    "\n",
    "if n<=0:\n",
    "    print('There is zero rows')\n",
    "elif n==1:\n",
    "    print(n1)\n",
    "else:\n",
    "    while count < n:\n",
    "        print(n1)\n",
    "        nth = n1+n2\n",
    "        n1=n2\n",
    "        n2=nth\n",
    "        count=count+1"
   ]
  },
  {
   "cell_type": "code",
   "execution_count": 14,
   "metadata": {},
   "outputs": [
    {
     "name": "stdout",
     "output_type": "stream",
     "text": [
      "No. of numbers needed in a sequence: 6\n",
      "0\n",
      "1\n",
      "1\n",
      "2\n",
      "3\n",
      "5\n"
     ]
    }
   ],
   "source": [
    "n=int(input('No. of rows needed in a sequence: '))\n",
    "n1=0\n",
    "n2=1\n",
    "\n",
    "count=0\n",
    "\n",
    "if n<=0:\n",
    "    print('There is zero rows')\n",
    "elif n==1:\n",
    "    print(n1)\n",
    "else:\n",
    "    while count < n:\n",
    "        print(n1)\n",
    "        nth = n1+n2\n",
    "        n1=n2\n",
    "        n2=nth\n",
    "        count=count+1"
   ]
  },
  {
   "cell_type": "code",
   "execution_count": 1,
   "metadata": {},
   "outputs": [
    {
     "name": "stdout",
     "output_type": "stream",
     "text": [
      "No. of numbers needed in a sequence: 0\n",
      "There is zero rows\n"
     ]
    }
   ],
   "source": [
    "n=int(input('No. of numbers needed in a sequence: '))\n",
    "n1=0\n",
    "n2=1\n",
    "\n",
    "count=0\n",
    "\n",
    "if n<=0:\n",
    "    print('There is zero rows')\n",
    "elif n==1:\n",
    "    print(n1)\n",
    "else:\n",
    "    while count < n:\n",
    "        print(n1)\n",
    "        nth = n1+n2\n",
    "        n1=n2\n",
    "        n2=nth\n",
    "        count=count+1"
   ]
  },
  {
   "cell_type": "markdown",
   "metadata": {},
   "source": [
    "### Q4 . Write a Python Program to Check Armstrong Number?"
   ]
  },
  {
   "cell_type": "code",
   "execution_count": 4,
   "metadata": {},
   "outputs": [
    {
     "name": "stdout",
     "output_type": "stream",
     "text": [
      "Enter number to check for Armstrong:1634\n",
      "Given number 1634 is an Armstrong number.\n"
     ]
    }
   ],
   "source": [
    "num = input(\"Enter number to check for Armstrong:\")\n",
    "order=len(num)\n",
    "result = 0\n",
    "temp = int(num)\n",
    "while(temp>0):\n",
    "    remainder= int(temp%10)\n",
    "    temp=temp/10\n",
    "    result=result+(remainder**order)\n",
    "if(int(result) == int(num)):\n",
    "    print(\"Given number {} is an Armstrong number.\".format(num))\n",
    "else:\n",
    "    print(\"Given number {} is not an Armstrong number.\".format(num))"
   ]
  },
  {
   "cell_type": "code",
   "execution_count": 5,
   "metadata": {},
   "outputs": [
    {
     "name": "stdout",
     "output_type": "stream",
     "text": [
      "Enter number to check for Armstrong:153\n",
      "Given number 153 is an Armstrong number.\n"
     ]
    }
   ],
   "source": [
    "num = input(\"Enter number to check for Armstrong:\")\n",
    "order=len(num)\n",
    "result = 0\n",
    "temp = int(num)\n",
    "while(temp>0):\n",
    "    remainder= int(temp%10)\n",
    "    temp=temp/10\n",
    "    result=result+(remainder**order)\n",
    "if(int(result) == int(num)):\n",
    "    print(\"Given number {} is an Armstrong number.\".format(num))\n",
    "else:\n",
    "    print(\"Given number {} is not an Armstrong number.\".format(num))"
   ]
  },
  {
   "cell_type": "code",
   "execution_count": 18,
   "metadata": {},
   "outputs": [
    {
     "name": "stdout",
     "output_type": "stream",
     "text": [
      "Enter number to check for Armstrong:153\n",
      "Given number 153 is an Armstrong number.\n",
      "Wall time: 5.47 s\n"
     ]
    }
   ],
   "source": [
    "%%time\n",
    "num = input(\"Enter number to check for Armstrong:\")\n",
    "order=len(num)\n",
    "result = 0\n",
    "temp = int(num)\n",
    "while(temp>0):\n",
    "    remainder= int(temp%10)\n",
    "    temp=temp/10\n",
    "    result=result+(remainder**order)\n",
    "if(int(result) == int(num)):\n",
    "    print(\"Given number {} is an Armstrong number.\".format(num))\n",
    "else:\n",
    "    print(\"Given number {} is not an Armstrong number.\".format(num))"
   ]
  },
  {
   "cell_type": "markdown",
   "metadata": {},
   "source": [
    "### Q5 . Write a Python Program to Find Armstrong Number in an Interval?"
   ]
  },
  {
   "cell_type": "code",
   "execution_count": 11,
   "metadata": {},
   "outputs": [
    {
     "name": "stdout",
     "output_type": "stream",
     "text": [
      "Enter the starting value of the Interval here: 1\n",
      "Enter the ending value of the Interval here: 500\n",
      "1\n",
      "2\n",
      "3\n",
      "4\n",
      "5\n",
      "6\n",
      "7\n",
      "8\n",
      "9\n",
      "153\n",
      "370\n",
      "371\n",
      "407\n"
     ]
    }
   ],
   "source": [
    "start=int(input('Enter the starting value of the Interval here: '))\n",
    "end=int(input('Enter the ending value of the Interval here: '))\n",
    "\n",
    "for num in range(start,end+1):\n",
    "    order=len(str(num))\n",
    "    result = 0\n",
    "    temp=num\n",
    "    while(temp>0):\n",
    "        remainder= int(temp%10)\n",
    "        temp=temp/10\n",
    "        result=result+(remainder**order)\n",
    "    if result==num:\n",
    "        print(num)"
   ]
  },
  {
   "cell_type": "code",
   "execution_count": 20,
   "metadata": {},
   "outputs": [
    {
     "name": "stdout",
     "output_type": "stream",
     "text": [
      "Enter the starting value of the Interval here: 1\n",
      "Enter the ending value of the Interval here: 10000\n",
      "[1, 2, 3, 4, 5, 6, 7, 8, 9, 153, 370, 371, 407, 1634, 8208, 9474]\n"
     ]
    }
   ],
   "source": [
    "start=int(input('Enter the starting value of the Interval here: '))\n",
    "end=int(input('Enter the ending value of the Interval here: '))\n",
    "\n",
    "list_Armstrong=[]\n",
    "\n",
    "for num in range(start,end+1):\n",
    "    order=len(str(num))\n",
    "    result = 0\n",
    "    temp=num\n",
    "    while(temp>0):\n",
    "        remainder= int(temp%10)\n",
    "        temp=temp/10\n",
    "        result=result+(remainder**order)\n",
    "    if result==num:\n",
    "        list_Armstrong.append(num)\n",
    "print(list_Armstrong)"
   ]
  },
  {
   "cell_type": "markdown",
   "metadata": {},
   "source": [
    "### Q6 . Write a Python Program to Find the Sum of Natural Numbers?"
   ]
  },
  {
   "cell_type": "code",
   "execution_count": 29,
   "metadata": {},
   "outputs": [
    {
     "name": "stdout",
     "output_type": "stream",
     "text": [
      "Sum of Natural Numbers upto: 15\n",
      "Sum of Natural Numbers upto 15 is 120\n"
     ]
    }
   ],
   "source": [
    "# without using the formula\n",
    "\n",
    "num=int(input('Sum of Natural Numbers upto: '))\n",
    "\n",
    "Sum=0\n",
    "\n",
    "temp=num\n",
    "\n",
    "if temp<0:\n",
    "    print('invalid entry of number')\n",
    "else:\n",
    "    while temp>0:\n",
    "        Sum=Sum+temp\n",
    "        temp=temp-1\n",
    "    print('Sum of Natural Numbers upto {} is {}'.format(num,Sum))"
   ]
  },
  {
   "cell_type": "code",
   "execution_count": 28,
   "metadata": {},
   "outputs": [
    {
     "name": "stdout",
     "output_type": "stream",
     "text": [
      "Sum of Natural Numbers upto: 15\n",
      "Sum of Natural Numbers upto 15 is 120\n"
     ]
    }
   ],
   "source": [
    "# with formula\n",
    "\n",
    "num=int(input('Sum of Natural Numbers upto: '))\n",
    "\n",
    "if num<0:\n",
    "    print('invalid entry of number')\n",
    "else:\n",
    "    S=num*(num+1)*0.5\n",
    "print('Sum of Natural Numbers upto {} is {}'.format(num,int(S)))"
   ]
  }
 ],
 "metadata": {
  "kernelspec": {
   "display_name": "Python 3",
   "language": "python",
   "name": "python3"
  },
  "language_info": {
   "codemirror_mode": {
    "name": "ipython",
    "version": 3
   },
   "file_extension": ".py",
   "mimetype": "text/x-python",
   "name": "python",
   "nbconvert_exporter": "python",
   "pygments_lexer": "ipython3",
   "version": "3.8.5"
  }
 },
 "nbformat": 4,
 "nbformat_minor": 4
}
