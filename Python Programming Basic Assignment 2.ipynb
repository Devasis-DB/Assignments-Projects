{
 "cells": [
  {
   "cell_type": "markdown",
   "metadata": {},
   "source": [
    "# Python Programming Basic Assignment 2"
   ]
  },
  {
   "cell_type": "markdown",
   "metadata": {},
   "source": [
    "### Q1 . Write a Python program to convert kilometers to miles?"
   ]
  },
  {
   "cell_type": "code",
   "execution_count": 3,
   "metadata": {},
   "outputs": [
    {
     "name": "stdout",
     "output_type": "stream",
     "text": [
      "No. of Kms to be converted to Miles: 1\n",
      "No. of miles for 1 kms is 0.6214\n"
     ]
    }
   ],
   "source": [
    "kms=int(input('No. of Kms to be converted to Miles: '))\n",
    "\n",
    "miles=kms*0.6214\n",
    "print('No. of miles for {} kms is {}'.format(kms,miles))"
   ]
  },
  {
   "cell_type": "markdown",
   "metadata": {},
   "source": [
    "### Q2 . Write a Python program to convert Celsius to Fahrenheit?"
   ]
  },
  {
   "cell_type": "code",
   "execution_count": 4,
   "metadata": {},
   "outputs": [
    {
     "name": "stdout",
     "output_type": "stream",
     "text": [
      "No. of celsius to be converted to Fahrenheit: 1\n",
      "1 degree Celsius is equal to 33.8 Fahrenheit\n"
     ]
    }
   ],
   "source": [
    "C=int(input('No. of celsius to be converted to Fahrenheit: '))\n",
    "\n",
    "F=C*33.8\n",
    "print('{} degree Celsius is equal to {} Fahrenheit'.format(C,F))"
   ]
  },
  {
   "cell_type": "markdown",
   "metadata": {},
   "source": [
    "### Q3 . Write a Python program to display calendar?"
   ]
  },
  {
   "cell_type": "code",
   "execution_count": 5,
   "metadata": {},
   "outputs": [],
   "source": [
    "import calendar"
   ]
  },
  {
   "cell_type": "code",
   "execution_count": 18,
   "metadata": {},
   "outputs": [
    {
     "name": "stdout",
     "output_type": "stream",
     "text": [
      "Insert the Year here: 2020\n",
      "Insert the Month(#) here: 11\n",
      "   November 2020\n",
      "Su Mo Tu We Th Fr Sa\n",
      " 1  2  3  4  5  6  7\n",
      " 8  9 10 11 12 13 14\n",
      "15 16 17 18 19 20 21\n",
      "22 23 24 25 26 27 28\n",
      "29 30\n",
      "\n"
     ]
    }
   ],
   "source": [
    "#Displaying a specific month\n",
    "\n",
    "calendar.setfirstweekday(6)\n",
    "\n",
    "Year = int(input('Insert the Year here: '))\n",
    "Month = int(input('Insert the Month(#) here: '))\n",
    "\n",
    "Calendar=calendar.month(Year,Month)\n",
    "print(Calendar)"
   ]
  },
  {
   "cell_type": "code",
   "execution_count": 19,
   "metadata": {},
   "outputs": [
    {
     "name": "stdout",
     "output_type": "stream",
     "text": [
      "Insert the Year here: 2020\n",
      "Insert the Month(#) here: 03\n",
      "Calendar of the year 2020 is: \n",
      "                                   2020\n",
      "\n",
      "      January                   February                   March\n",
      "Su Mo Tu We Th Fr Sa      Su Mo Tu We Th Fr Sa      Su Mo Tu We Th Fr Sa\n",
      "          1  2  3  4                         1       1  2  3  4  5  6  7\n",
      " 5  6  7  8  9 10 11       2  3  4  5  6  7  8       8  9 10 11 12 13 14\n",
      "12 13 14 15 16 17 18       9 10 11 12 13 14 15      15 16 17 18 19 20 21\n",
      "19 20 21 22 23 24 25      16 17 18 19 20 21 22      22 23 24 25 26 27 28\n",
      "26 27 28 29 30 31         23 24 25 26 27 28 29      29 30 31\n",
      "\n",
      "       April                      May                       June\n",
      "Su Mo Tu We Th Fr Sa      Su Mo Tu We Th Fr Sa      Su Mo Tu We Th Fr Sa\n",
      "          1  2  3  4                      1  2          1  2  3  4  5  6\n",
      " 5  6  7  8  9 10 11       3  4  5  6  7  8  9       7  8  9 10 11 12 13\n",
      "12 13 14 15 16 17 18      10 11 12 13 14 15 16      14 15 16 17 18 19 20\n",
      "19 20 21 22 23 24 25      17 18 19 20 21 22 23      21 22 23 24 25 26 27\n",
      "26 27 28 29 30            24 25 26 27 28 29 30      28 29 30\n",
      "                          31\n",
      "\n",
      "        July                     August                  September\n",
      "Su Mo Tu We Th Fr Sa      Su Mo Tu We Th Fr Sa      Su Mo Tu We Th Fr Sa\n",
      "          1  2  3  4                         1             1  2  3  4  5\n",
      " 5  6  7  8  9 10 11       2  3  4  5  6  7  8       6  7  8  9 10 11 12\n",
      "12 13 14 15 16 17 18       9 10 11 12 13 14 15      13 14 15 16 17 18 19\n",
      "19 20 21 22 23 24 25      16 17 18 19 20 21 22      20 21 22 23 24 25 26\n",
      "26 27 28 29 30 31         23 24 25 26 27 28 29      27 28 29 30\n",
      "                          30 31\n",
      "\n",
      "      October                   November                  December\n",
      "Su Mo Tu We Th Fr Sa      Su Mo Tu We Th Fr Sa      Su Mo Tu We Th Fr Sa\n",
      "             1  2  3       1  2  3  4  5  6  7             1  2  3  4  5\n",
      " 4  5  6  7  8  9 10       8  9 10 11 12 13 14       6  7  8  9 10 11 12\n",
      "11 12 13 14 15 16 17      15 16 17 18 19 20 21      13 14 15 16 17 18 19\n",
      "18 19 20 21 22 23 24      22 23 24 25 26 27 28      20 21 22 23 24 25 26\n",
      "25 26 27 28 29 30 31      29 30                     27 28 29 30 31\n",
      "\n",
      "Calendar for 3th month of 2020 is: \n",
      "      March 2020\n",
      "Su Mo Tu We Th Fr Sa\n",
      " 1  2  3  4  5  6  7\n",
      " 8  9 10 11 12 13 14\n",
      "15 16 17 18 19 20 21\n",
      "22 23 24 25 26 27 28\n",
      "29 30 31\n",
      "\n"
     ]
    }
   ],
   "source": [
    "#displaying a calendar of Specific year as well as a specific month\n",
    "\n",
    "Year = int(input('Insert the Year here: '))\n",
    "Month = int(input('Insert the Month(#) here: '))\n",
    "\n",
    "Calendar_Year=calendar.calendar(Year)\n",
    "Calendar_Month=calendar.month(Year,Month)\n",
    "\n",
    "print('Calendar of the year {} is: \\n {}'.format(Year,Calendar_Year))\n",
    "print('Calendar for {}th month of {} is: \\n {}'.format(Month,Year,Calendar_Month))"
   ]
  },
  {
   "cell_type": "markdown",
   "metadata": {},
   "source": [
    "### Q4 . Write a Python program to solve quadratic equation?"
   ]
  },
  {
   "cell_type": "code",
   "execution_count": 8,
   "metadata": {},
   "outputs": [
    {
     "name": "stdout",
     "output_type": "stream",
     "text": [
      "Coefficient of x**2 is: 1\n",
      "Coefficient of x is: 2\n",
      "Constant number is: 1\n",
      "The roots are real and same\n",
      "The root is -1.0\n"
     ]
    }
   ],
   "source": [
    "a=int(input('Coefficient of x**2 is: '))\n",
    "b=int(input('Coefficient of x is: '))\n",
    "c=int(input('Constant number is: '))\n",
    "\n",
    "d=(b**2)-4*a*c\n",
    "\n",
    "if a!=0:\n",
    "    if d>0:\n",
    "        r1=(-b+(d**0.5))/(2*a)\n",
    "        r2=(-b-(d**0.5))/(2*a)\n",
    "        print('The roots are real and different')\n",
    "        print('The roots are {} and {}'.format(r1,r2))\n",
    "    elif d==0:\n",
    "        r=-b/(2*a)\n",
    "        print('The roots are real and same')\n",
    "        print('The root is {}'.format(r))\n",
    "    else:\n",
    "        r3=(-b+(d**0.5))/(2*a)\n",
    "        r4=(-b-(d**0.5))/(2*a)\n",
    "        print('The roots are Complex')\n",
    "        print('The roots are {} and {}'.format(r3,r4))\n",
    "else:\n",
    "    print('Given equation is not valid quadratic equation.')"
   ]
  },
  {
   "cell_type": "code",
   "execution_count": 9,
   "metadata": {},
   "outputs": [
    {
     "name": "stdout",
     "output_type": "stream",
     "text": [
      "Coefficient of x**2 is: 5\n",
      "Coefficient of x is: 8\n",
      "Constant number is: 3\n",
      "The roots are real and different\n",
      "The roots are -0.6 and -1.0\n"
     ]
    }
   ],
   "source": [
    "a=int(input('Coefficient of x**2 is: '))\n",
    "b=int(input('Coefficient of x is: '))\n",
    "c=int(input('Constant number is: '))\n",
    "\n",
    "d=(b**2)-4*a*c\n",
    "\n",
    "if a!=0:\n",
    "    if d>0:\n",
    "        r1=(-b+(d**0.5))/(2*a)\n",
    "        r2=(-b-(d**0.5))/(2*a)\n",
    "        print('The roots are real and different')\n",
    "        print('The roots are {} and {}'.format(r1,r2))\n",
    "    elif d==0:\n",
    "        r=-b/(2*a)\n",
    "        print('The roots are real and same')\n",
    "        print('The root is {}'.format(r))\n",
    "    else:\n",
    "        r3=(-b+(d**0.5))/(2*a)\n",
    "        r4=(-b-(d**0.5))/(2*a)\n",
    "        print('The roots are Complex')\n",
    "        print('The roots are {} and {}'.format(r3,r4))\n",
    "else:\n",
    "    print('Given equation is not valid quadratic equation.')"
   ]
  },
  {
   "cell_type": "code",
   "execution_count": 10,
   "metadata": {},
   "outputs": [
    {
     "name": "stdout",
     "output_type": "stream",
     "text": [
      "Coefficient of x**2 is: 2\n",
      "Coefficient of x is: 5\n",
      "Constant number is: 4\n",
      "The roots are Complex\n",
      "The roots are (-1.25+0.6614378277661477j) and (-1.25-0.6614378277661477j)\n"
     ]
    }
   ],
   "source": [
    "a=int(input('Coefficient of x**2 is: '))\n",
    "b=int(input('Coefficient of x is: '))\n",
    "c=int(input('Constant number is: '))\n",
    "\n",
    "d=(b**2)-4*a*c\n",
    "\n",
    "if a!=0:\n",
    "    if d>0:\n",
    "        r1=(-b+(d**0.5))/(2*a)\n",
    "        r2=(-b-(d**0.5))/(2*a)\n",
    "        print('The roots are real and different')\n",
    "        print('The roots are {} and {}'.format(r1,r2))\n",
    "    elif d==0:\n",
    "        r=-b/(2*a)\n",
    "        print('The roots are real and same')\n",
    "        print('The root is {}'.format(r))\n",
    "    else:\n",
    "        r3=(-b+(d**0.5))/(2*a)\n",
    "        r4=(-b-(d**0.5))/(2*a)\n",
    "        print('The roots are Complex')\n",
    "        print('The roots are {} and {}'.format(r3,r4))\n",
    "else:\n",
    "    print('Given equation is not valid quadratic equation.')"
   ]
  },
  {
   "cell_type": "code",
   "execution_count": 11,
   "metadata": {},
   "outputs": [
    {
     "name": "stdout",
     "output_type": "stream",
     "text": [
      "Coefficient of x**2 is: 0\n",
      "Coefficient of x is: 1\n",
      "Constant number is: 2\n",
      "Given equation is not valid quadratic equation.\n"
     ]
    }
   ],
   "source": [
    "a=int(input('Coefficient of x**2 is: '))\n",
    "b=int(input('Coefficient of x is: '))\n",
    "c=int(input('Constant number is: '))\n",
    "\n",
    "d=(b**2)-4*a*c\n",
    "\n",
    "if a!=0:\n",
    "    if d>0:\n",
    "        r1=(-b+(d**0.5))/(2*a)\n",
    "        r2=(-b-(d**0.5))/(2*a)\n",
    "        print('The roots are real and different')\n",
    "        print('The roots are {} and {}'.format(r1,r2))\n",
    "    elif d==0:\n",
    "        r=-b/(2*a)\n",
    "        print('The roots are real and same')\n",
    "        print('The root is {}'.format(r))\n",
    "    else:\n",
    "        r3=(-b+(d**0.5))/(2*a)\n",
    "        r4=(-b-(d**0.5))/(2*a)\n",
    "        print('The roots are Complex')\n",
    "        print('The roots are {} and {}'.format(r3,r4))\n",
    "else:\n",
    "    print('Given equation is not valid quadratic equation.')"
   ]
  },
  {
   "cell_type": "markdown",
   "metadata": {},
   "source": [
    "### Q5 . Write a Python program to swap two variables without temp variable?"
   ]
  },
  {
   "cell_type": "code",
   "execution_count": 12,
   "metadata": {},
   "outputs": [
    {
     "name": "stdout",
     "output_type": "stream",
     "text": [
      "input the x value here: 15\n",
      "input the y value here: 26\n",
      "The x value is 15\n",
      "The y value is 26\n",
      "The x value after swapping is 26\n",
      "The y value after swapping is 15\n"
     ]
    }
   ],
   "source": [
    "x=input(\"input the x value here: \")\n",
    "y=input(\"input the y value here: \")\n",
    "\n",
    "print('The x value is {}'.format(x))\n",
    "print('The y value is {}'.format(y))\n",
    "\n",
    "x,y=y,x\n",
    "\n",
    "print('The x value after swapping is {}'.format(x))\n",
    "print('The y value after swapping is {}'.format(y))"
   ]
  },
  {
   "cell_type": "code",
   "execution_count": null,
   "metadata": {},
   "outputs": [],
   "source": []
  }
 ],
 "metadata": {
  "kernelspec": {
   "display_name": "Python 3",
   "language": "python",
   "name": "python3"
  }
 },
 "nbformat": 4,
 "nbformat_minor": 4
}
