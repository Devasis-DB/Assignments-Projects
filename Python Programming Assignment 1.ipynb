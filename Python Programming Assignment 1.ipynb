{
 "cells": [
  {
   "cell_type": "markdown",
   "metadata": {},
   "source": [
    "# Python Programming Assignment 1"
   ]
  },
  {
   "cell_type": "markdown",
   "metadata": {},
   "source": [
    "### Q1 . Write a Python program to print \"Hello Python\"?"
   ]
  },
  {
   "cell_type": "code",
   "execution_count": 1,
   "metadata": {},
   "outputs": [
    {
     "name": "stdout",
     "output_type": "stream",
     "text": [
      "Hello Python\n"
     ]
    }
   ],
   "source": [
    "print('Hello Python')"
   ]
  },
  {
   "cell_type": "code",
   "execution_count": 2,
   "metadata": {},
   "outputs": [
    {
     "name": "stdout",
     "output_type": "stream",
     "text": [
      " \"Hello Python\" \n"
     ]
    }
   ],
   "source": [
    "print(' \"Hello Python\" ')"
   ]
  },
  {
   "cell_type": "markdown",
   "metadata": {},
   "source": [
    "### Q2 . Write a Python program to do arithmetical operations addition and division.?"
   ]
  },
  {
   "cell_type": "code",
   "execution_count": 7,
   "metadata": {},
   "outputs": [
    {
     "name": "stdout",
     "output_type": "stream",
     "text": [
      "Input the number here: 20\n",
      "Input the number here: 2\n",
      "22\n",
      "10.0\n",
      "10\n"
     ]
    }
   ],
   "source": [
    "a=int(input('Input the number here: '))\n",
    "b=int(input('Input the number here: '))\n",
    "\n",
    "print(a+b) #Addition\n",
    "print(a/b) #Outcome is float (Float Division)\n",
    "print(a//b) #Outcome is Integer (Integer Division)"
   ]
  },
  {
   "cell_type": "code",
   "execution_count": 8,
   "metadata": {},
   "outputs": [
    {
     "name": "stdout",
     "output_type": "stream",
     "text": [
      "Input the number here: 15\n",
      "Input the number here: 2\n",
      "7.5\n",
      "7\n"
     ]
    }
   ],
   "source": [
    "a=int(input('Input the number here: '))\n",
    "b=int(input('Input the number here: '))\n",
    "\n",
    "print(a/b) # in this operation there is no reminder\n",
    "print(a//b)# in this operation there is a reminder of '1'\n"
   ]
  },
  {
   "cell_type": "markdown",
   "metadata": {},
   "source": [
    "### Q3 . Write a Python program to find the area of a triangle?"
   ]
  },
  {
   "cell_type": "code",
   "execution_count": 12,
   "metadata": {},
   "outputs": [
    {
     "name": "stdout",
     "output_type": "stream",
     "text": [
      "input the side 1 length: 5\n",
      "input the side 2 length: 6\n",
      "input the side 3 length: 7\n",
      "The Area of Triangle is:  14.696938456699069\n"
     ]
    }
   ],
   "source": [
    "a=int(input('input the side 1 length: '))\n",
    "b=int(input('input the side 2 length: '))\n",
    "c=int(input('input the side 3 length: '))\n",
    "\n",
    "s=(a+b+c)/2\n",
    "\n",
    "Area=(s*(s-a)*(s-b)*(s-c))**0.5\n",
    "\n",
    "print('The Area of Triangle is:  {}'.format(Area))"
   ]
  },
  {
   "cell_type": "markdown",
   "metadata": {},
   "source": [
    "### Q4 . Write a Python program to swap two variables?"
   ]
  },
  {
   "cell_type": "code",
   "execution_count": 14,
   "metadata": {},
   "outputs": [
    {
     "name": "stdout",
     "output_type": "stream",
     "text": [
      "Write a variable: Wild Animal\n",
      "Write a variable: Mild Animal\n",
      "a before swapping: Wild Animal\n",
      "b before swapping: Mild Animal\n",
      "a after swapping: Mild Animal\n",
      "b after swapping: Wild Animal\n"
     ]
    }
   ],
   "source": [
    "a=input('Write a variable: ')\n",
    "b=input('Write a variable: ')\n",
    "\n",
    "print('a before swapping: {}'.format(a))\n",
    "print('b before swapping: {}'.format(b))\n",
    "\n",
    "a,b=b,a\n",
    "\n",
    "print('a after swapping: {}'.format(a))\n",
    "print('b after swapping: {}'.format(b))\n"
   ]
  },
  {
   "cell_type": "markdown",
   "metadata": {},
   "source": [
    "### Q5 . Write a Python program to generate a random number?"
   ]
  },
  {
   "cell_type": "code",
   "execution_count": 20,
   "metadata": {},
   "outputs": [
    {
     "name": "stdout",
     "output_type": "stream",
     "text": [
      "783\n"
     ]
    }
   ],
   "source": [
    "# it will give us a random number between the beginning and ending number given by the user(by us)\n",
    "\n",
    "import random\n",
    "\n",
    "n = random.randint(0,1000)\n",
    "print(n)"
   ]
  },
  {
   "cell_type": "code",
   "execution_count": 23,
   "metadata": {},
   "outputs": [
    {
     "name": "stdout",
     "output_type": "stream",
     "text": [
      "enter the beginning number: 156\n",
      "enter the ending number: 1057\n",
      "872\n"
     ]
    }
   ],
   "source": [
    "a=int(input('enter the beginning number: '))\n",
    "b=int(input('enter the ending number: '))\n",
    "\n",
    "n=random.randint(a,b)\n",
    "print(n)"
   ]
  },
  {
   "cell_type": "code",
   "execution_count": 24,
   "metadata": {},
   "outputs": [
    {
     "name": "stdout",
     "output_type": "stream",
     "text": [
      "0.44672850587721014\n"
     ]
    }
   ],
   "source": [
    "#it will give us a random number between 0 and 1\n",
    "\n",
    "n = random.random()\n",
    "print(n)"
   ]
  },
  {
   "cell_type": "code",
   "execution_count": null,
   "metadata": {},
   "outputs": [],
   "source": []
  }
 ],
 "metadata": {
  "kernelspec": {
   "display_name": "Python 3",
   "language": "python",
   "name": "python3"
  },
  "language_info": {
   "codemirror_mode": {
    "name": "ipython",
    "version": 3
   },
   "file_extension": ".py",
   "mimetype": "text/x-python",
   "name": "python",
   "nbconvert_exporter": "python",
   "pygments_lexer": "ipython3",
   "version": "3.8.5"
  }
 },
 "nbformat": 4,
 "nbformat_minor": 4
}
